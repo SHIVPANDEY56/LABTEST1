{
 "cells": [
  {
   "cell_type": "code",
   "execution_count": 2,
   "metadata": {},
   "outputs": [],
   "source": [
    "import numpy as np\n",
    "import matplotlib.pyplot as plt\n",
    "import scipy as sp"
   ]
  },
  {
   "cell_type": "code",
   "execution_count": 72,
   "metadata": {},
   "outputs": [],
   "source": [
    "arr=([1,\"BOS\",\"CAL\",\"10:30:00\",\"12:30:00\",12,6],\n",
    "    [2,\"NYC\",\"CAL\",\"18:30:00\",\"00:30:00\",1,26],\n",
    "    [3,\"NYC\",\"LA\",\"13:40:00\",\"16:30:00\",8,3],\n",
    "    [3,\"BOS\",\"LA\",\"13:00:00\",\"19:30:00\",0,0])\n",
    "flight_schedule=np.array(arr,dtype=object)"
   ]
  },
  {
   "cell_type": "code",
   "execution_count": 73,
   "metadata": {},
   "outputs": [],
   "source": [
    "arr2=([1,\"Ravi\",[[1,32],[3,5],[3,8]]],\n",
    "    [2,\"Tejas\",[[2,2],[3,15],[1,8]]],\n",
    "    [3,\"Rahul\",[[1,32],[2,15],[3,10]]])\n",
    "passenger_records=np.array(arr2,dtype=object)"
   ]
  },
  {
   "cell_type": "code",
   "execution_count": 49,
   "metadata": {},
   "outputs": [],
   "source": [
    "def find_reservations(passenger_id):\n",
    "    return passenger_records[passenger_records[:,0]==passenger_id]"
   ]
  },
  {
   "cell_type": "code",
   "execution_count": 50,
   "metadata": {},
   "outputs": [],
   "source": [
    "def update_flight(flight_id,newseats):\n",
    "    flight_schedule[flight_schedule[:,0]==flight_id,5]=newseats"
   ]
  },
  {
   "cell_type": "code",
   "execution_count": 51,
   "metadata": {},
   "outputs": [
    {
     "data": {
      "text/plain": [
       "array([[1, 'BOS', 'CAL', '10:30:00', '12:30:00', 12, 6],\n",
       "       [2, 'NYC', 'CAL', '18:30:00', '00:30:00', 1, 26],\n",
       "       [3, 'NYC', 'LA', '13:40:00', '16:30:00', 8, 3],\n",
       "       [3, 'BOS', 'LA', '13:00:00', '19:30:00', 0, 0]], dtype=object)"
      ]
     },
     "execution_count": 51,
     "metadata": {},
     "output_type": "execute_result"
    }
   ],
   "source": [
    "flight_schedule"
   ]
  },
  {
   "cell_type": "code",
   "execution_count": 52,
   "metadata": {},
   "outputs": [
    {
     "data": {
      "text/plain": [
       "array([[2, 'Tejas', list([[2, 2], [3, 15], [1, 8]])]], dtype=object)"
      ]
     },
     "execution_count": 52,
     "metadata": {},
     "output_type": "execute_result"
    }
   ],
   "source": [
    "find_reservations(2)"
   ]
  },
  {
   "cell_type": "code",
   "execution_count": 74,
   "metadata": {},
   "outputs": [],
   "source": [
    "update_flight(2,4)"
   ]
  },
  {
   "cell_type": "code",
   "execution_count": 54,
   "metadata": {},
   "outputs": [
    {
     "data": {
      "text/plain": [
       "array([[1, 'BOS', 'CAL', '10:30:00', '12:30:00', 12, 6],\n",
       "       [2, 'NYC', 'CAL', '18:30:00', '00:30:00', 4, 26],\n",
       "       [3, 'NYC', 'LA', '13:40:00', '16:30:00', 8, 3],\n",
       "       [3, 'BOS', 'LA', '13:00:00', '19:30:00', 0, 0]], dtype=object)"
      ]
     },
     "execution_count": 54,
     "metadata": {},
     "output_type": "execute_result"
    }
   ],
   "source": [
    "flight_schedule"
   ]
  },
  {
   "cell_type": "code",
   "execution_count": 80,
   "metadata": {},
   "outputs": [
    {
     "data": {
      "text/plain": [
       "array([[3, 'BOS', 'LA', '13:00:00', '19:30:00', 0, 0]], dtype=object)"
      ]
     },
     "execution_count": 80,
     "metadata": {},
     "output_type": "execute_result"
    }
   ],
   "source": [
    "X=passenger_records[:,2]\n",
    "c1=0\n",
    "c2=0\n",
    "c3=0\n",
    "for l in X:\n",
    "    for o in l:\n",
    "        if(o[0]==1):\n",
    "            c1+=1\n",
    "        if(o[0]==2):\n",
    "            c2+=1\n",
    "        if(o[0]==3):\n",
    "            c3+=1\n",
    "            \n",
    "            \n",
    "t=max(c1,c2,c3)\n",
    "r=min(c1,c2,c3)\n",
    "t=t-1\n",
    "r=r-1\n",
    "maxf=flight_schedule[t:t+1]\n",
    "minf=flight_schedule[r:r+1]\n",
    "maxf"
   ]
  },
  {
   "cell_type": "code",
   "execution_count": 61,
   "metadata": {},
   "outputs": [],
   "source": [
    "\n",
    "i=0\n",
    "def fully_booked():\n",
    "  return flight_schedule[flight_schedule[:,5]+flight_schedule[:,6]==0]"
   ]
  },
  {
   "cell_type": "code",
   "execution_count": 63,
   "metadata": {},
   "outputs": [
    {
     "data": {
      "text/plain": [
       "array([[3, 'BOS', 'LA', '13:00:00', '19:30:00', 0, 0]], dtype=object)"
      ]
     },
     "execution_count": 63,
     "metadata": {},
     "output_type": "execute_result"
    }
   ],
   "source": [
    "fully_booked()"
   ]
  },
  {
   "cell_type": "code",
   "execution_count": null,
   "metadata": {},
   "outputs": [],
   "source": []
  }
 ],
 "metadata": {
  "kernelspec": {
   "display_name": "Python 3",
   "language": "python",
   "name": "python3"
  },
  "language_info": {
   "codemirror_mode": {
    "name": "ipython",
    "version": 3
   },
   "file_extension": ".py",
   "mimetype": "text/x-python",
   "name": "python",
   "nbconvert_exporter": "python",
   "pygments_lexer": "ipython3",
   "version": "3.7.3"
  }
 },
 "nbformat": 4,
 "nbformat_minor": 2
}
